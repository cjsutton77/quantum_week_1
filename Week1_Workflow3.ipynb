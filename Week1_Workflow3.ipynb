{
 "cells": [
  {
   "cell_type": "markdown",
   "id": "ba05d913-63e0-4b9e-aec0-374e9f8c8cad",
   "metadata": {},
   "source": [
    "## Quantun LiveProject: *Week 1*"
   ]
  },
  {
   "cell_type": "markdown",
   "id": "6d0cbd22-94bc-415a-9dbc-66e8b71e42a5",
   "metadata": {},
   "source": [
    "## Workflow 3: Just enough Quantum"
   ]
  },
  {
   "cell_type": "markdown",
   "id": "d34250ab-ba64-4137-95c1-dfeb949df323",
   "metadata": {},
   "source": [
    "### Reviewer: Christian Sutton ---  christian.sutton@gmail.com "
   ]
  },
  {
   "cell_type": "code",
   "execution_count": 1,
   "id": "d2743f04-cd77-4f2c-ad8a-baa1f93e821f",
   "metadata": {},
   "outputs": [],
   "source": [
    "import numpy as np\n",
    "import qutip as q\n",
    "from numpy import linalg as LA\n",
    "import matplotlib.pyplot as plt\n",
    "import pandas as pd"
   ]
  },
  {
   "cell_type": "markdown",
   "id": "ce1304ce-fcc4-4f1f-8b09-45790da62346",
   "metadata": {},
   "source": [
    "## Deliverables"
   ]
  },
  {
   "cell_type": "markdown",
   "id": "2bbdf82a-d053-455b-affe-6cda4b9f3441",
   "metadata": {},
   "source": [
    "Can you apply a new gate C-NOT to a two Quibit system?\n",
    "`CNOT = np.array([[1,0,0,0],[0,1,0,0],[0,0,0,1],[0,0,1,0]])`\n",
    "\n",
    "Can you do a dot multiplation of a KET and a BRA? \n",
    "∣0⟩\n",
    "⟨0∣\n",
    "∣0⟩⟨0∣ What do you get?"
   ]
  },
  {
   "cell_type": "code",
   "execution_count": 2,
   "id": "1aa9d339-c2d6-49a5-9e5d-0920a001cdc1",
   "metadata": {},
   "outputs": [],
   "source": [
    "ket0 = np.array([[complex(1,0)],[complex(0,0)]])\n",
    "ket1 = np.array([[complex(0,0)],[complex(1,0)]])\n",
    "\n",
    "ket00 = np.kron(ket0,ket0)\n",
    "ket01 = np.kron(ket0,ket1)\n",
    "ket10 = np.kron(ket1,ket0)\n",
    "ket11 = np.kron(ket1,ket1)"
   ]
  },
  {
   "cell_type": "code",
   "execution_count": 3,
   "id": "e0d40846-02d6-4935-84b0-4cda3a422eeb",
   "metadata": {},
   "outputs": [
    {
     "name": "stdout",
     "output_type": "stream",
     "text": [
      "[[1.+0.j]\n",
      " [0.+0.j]\n",
      " [0.+0.j]\n",
      " [0.+0.j]]\n",
      "\n",
      "[[0.+0.j]\n",
      " [1.+0.j]\n",
      " [0.+0.j]\n",
      " [0.+0.j]]\n",
      "\n",
      "[[0.+0.j]\n",
      " [0.+0.j]\n",
      " [1.+0.j]\n",
      " [0.+0.j]]\n",
      "\n",
      "[[0.+0.j]\n",
      " [0.+0.j]\n",
      " [0.+0.j]\n",
      " [1.+0.j]]\n",
      "\n"
     ]
    }
   ],
   "source": [
    "for i in [ket00,ket01,ket10,ket11]:\n",
    "        print(i,end='\\n\\n')"
   ]
  },
  {
   "cell_type": "code",
   "execution_count": 4,
   "id": "64dd3e40-b26f-4a7f-bb33-3fa79a481ee1",
   "metadata": {},
   "outputs": [
    {
     "data": {
      "text/plain": [
       "(4, 4)"
      ]
     },
     "execution_count": 4,
     "metadata": {},
     "output_type": "execute_result"
    }
   ],
   "source": [
    "CNOT = np.array([[1,0,0,0],[0,1,0,0],[0,0,0,1],[0,0,1,0]])\n",
    "CNOT.shape"
   ]
  },
  {
   "cell_type": "code",
   "execution_count": 5,
   "id": "6d8722e6-9c91-49df-abb0-cb94d8a0ccca",
   "metadata": {},
   "outputs": [
    {
     "data": {
      "text/plain": [
       "array([[0.+0.j],\n",
       "       [0.+0.j],\n",
       "       [1.+0.j],\n",
       "       [0.+0.j]])"
      ]
     },
     "execution_count": 5,
     "metadata": {},
     "output_type": "execute_result"
    }
   ],
   "source": [
    "CNOT @ ket11"
   ]
  },
  {
   "cell_type": "code",
   "execution_count": 6,
   "id": "87724668-d8da-4c7e-9261-6e35076ddda9",
   "metadata": {},
   "outputs": [
    {
     "name": "stdout",
     "output_type": "stream",
     "text": [
      "[[1.+0.j]\n",
      " [0.+0.j]\n",
      " [0.+0.j]\n",
      " [0.+0.j]]\n",
      "-----\n",
      "[[0.+0.j]\n",
      " [1.+0.j]\n",
      " [0.+0.j]\n",
      " [0.+0.j]]\n",
      "-----\n",
      "[[0.+0.j]\n",
      " [0.+0.j]\n",
      " [0.+0.j]\n",
      " [1.+0.j]]\n",
      "-----\n",
      "[[0.+0.j]\n",
      " [0.+0.j]\n",
      " [1.+0.j]\n",
      " [0.+0.j]]\n",
      "-----\n"
     ]
    }
   ],
   "source": [
    "for i in [ket00,ket01,ket10,ket11]:\n",
    "    #print(f'CNOT dot {i})\\n')\n",
    "    print(CNOT @ i)\n",
    "    print('-----')"
   ]
  },
  {
   "cell_type": "code",
   "execution_count": 7,
   "id": "1e12fd84-76da-442b-802c-377fa9a1cabb",
   "metadata": {},
   "outputs": [],
   "source": [
    "c = 1/np.sqrt(2)\n",
    "ket = np.array([[complex(c,0)],[complex(c,0)]])\n",
    "bra = ket.T.conj()"
   ]
  },
  {
   "cell_type": "code",
   "execution_count": 8,
   "id": "3f47ef74-5865-4b2d-8dfb-aeb09cf0d9d0",
   "metadata": {},
   "outputs": [
    {
     "data": {
      "text/plain": [
       "array([[0.5+0.j, 0.5+0.j],\n",
       "       [0.5+0.j, 0.5+0.j]])"
      ]
     },
     "execution_count": 8,
     "metadata": {},
     "output_type": "execute_result"
    }
   ],
   "source": [
    "ket @ bra"
   ]
  },
  {
   "cell_type": "code",
   "execution_count": 9,
   "id": "be77262a-b5fe-4f6e-9318-0c55715c6b52",
   "metadata": {},
   "outputs": [
    {
     "data": {
      "text/plain": [
       "array([[0.70710678+0.j],\n",
       "       [0.70710678+0.j]])"
      ]
     },
     "execution_count": 9,
     "metadata": {},
     "output_type": "execute_result"
    }
   ],
   "source": [
    "ket"
   ]
  },
  {
   "cell_type": "code",
   "execution_count": 10,
   "id": "e4080265-fb60-4ff8-80c5-b5c5f63947b6",
   "metadata": {},
   "outputs": [
    {
     "data": {
      "text/plain": [
       "(2, 1)"
      ]
     },
     "execution_count": 10,
     "metadata": {},
     "output_type": "execute_result"
    }
   ],
   "source": [
    "ket.shape"
   ]
  },
  {
   "cell_type": "code",
   "execution_count": 11,
   "id": "37993cd7-21ad-40f4-b0dc-8ade7e6a9f5f",
   "metadata": {},
   "outputs": [
    {
     "data": {
      "text/plain": [
       "array([[0.70710678-0.j, 0.70710678-0.j]])"
      ]
     },
     "execution_count": 11,
     "metadata": {},
     "output_type": "execute_result"
    }
   ],
   "source": [
    "bra"
   ]
  },
  {
   "cell_type": "code",
   "execution_count": 12,
   "id": "7c1b3c99-9757-43b3-8dc2-95555ebe2aa4",
   "metadata": {},
   "outputs": [
    {
     "data": {
      "text/plain": [
       "(1, 2)"
      ]
     },
     "execution_count": 12,
     "metadata": {},
     "output_type": "execute_result"
    }
   ],
   "source": [
    "bra.shape"
   ]
  },
  {
   "cell_type": "code",
   "execution_count": null,
   "id": "481a4f40-8138-45b8-9a63-e37a4a71374c",
   "metadata": {},
   "outputs": [],
   "source": []
  }
 ],
 "metadata": {
  "kernelspec": {
   "display_name": "Python 3",
   "language": "python",
   "name": "python3"
  },
  "language_info": {
   "codemirror_mode": {
    "name": "ipython",
    "version": 3
   },
   "file_extension": ".py",
   "mimetype": "text/x-python",
   "name": "python",
   "nbconvert_exporter": "python",
   "pygments_lexer": "ipython3",
   "version": "3.8.8"
  }
 },
 "nbformat": 4,
 "nbformat_minor": 5
}
