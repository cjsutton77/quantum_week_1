{
 "cells": [
  {
   "cell_type": "markdown",
   "id": "ba05d913-63e0-4b9e-aec0-374e9f8c8cad",
   "metadata": {},
   "source": [
    "## Quantun LiveProject: *Week 1*"
   ]
  },
  {
   "cell_type": "markdown",
   "id": "6d0cbd22-94bc-415a-9dbc-66e8b71e42a5",
   "metadata": {},
   "source": [
    "## Workflow 2: Vectors, Matricies"
   ]
  },
  {
   "cell_type": "markdown",
   "id": "d34250ab-ba64-4137-95c1-dfeb949df323",
   "metadata": {},
   "source": [
    "### Reviewer: Christian Sutton ---  christian.sutton@gmail.com "
   ]
  },
  {
   "cell_type": "code",
   "execution_count": 1,
   "id": "d2743f04-cd77-4f2c-ad8a-baa1f93e821f",
   "metadata": {},
   "outputs": [],
   "source": [
    "import numpy as np"
   ]
  },
  {
   "cell_type": "markdown",
   "id": "ce1304ce-fcc4-4f1f-8b09-45790da62346",
   "metadata": {},
   "source": [
    "## Deliverables"
   ]
  },
  {
   "cell_type": "markdown",
   "id": "3d6a366c-c344-48ff-858e-bfc6f26291b0",
   "metadata": {},
   "source": [
    "#### Question 1:  Can you create a row matrix of 3 elements where each element is `sqrt(2)` and a similar column vector. \n",
    "\n",
    "#### Can you do a a dot product (@) of both vectors? What is the number?"
   ]
  },
  {
   "cell_type": "code",
   "execution_count": 2,
   "id": "20770ca0-9eb1-4f28-b5fa-23b83546e9a3",
   "metadata": {},
   "outputs": [
    {
     "data": {
      "text/plain": [
       "(3,)"
      ]
     },
     "execution_count": 2,
     "metadata": {},
     "output_type": "execute_result"
    }
   ],
   "source": [
    "a = np.sqrt(2) * np.ones(3)\n",
    "a.shape"
   ]
  },
  {
   "cell_type": "code",
   "execution_count": 3,
   "id": "3ae4f73f-ecda-4ee3-9f80-8e7f101b2dc6",
   "metadata": {},
   "outputs": [
    {
     "data": {
      "text/plain": [
       "(1, 3)"
      ]
     },
     "execution_count": 3,
     "metadata": {},
     "output_type": "execute_result"
    }
   ],
   "source": [
    "aT = a.reshape(1,3)\n",
    "aT.shape"
   ]
  },
  {
   "cell_type": "code",
   "execution_count": 4,
   "id": "9f72ca6e-32cc-4cc5-b509-33666fc8835e",
   "metadata": {},
   "outputs": [
    {
     "data": {
      "text/plain": [
       "array([6])"
      ]
     },
     "execution_count": 4,
     "metadata": {},
     "output_type": "execute_result"
    }
   ],
   "source": [
    "sq = aT@a\n",
    "sq.astype('int')"
   ]
  },
  {
   "cell_type": "markdown",
   "id": "c4079722-e4f4-40e9-a85b-d7b4db57e2e4",
   "metadata": {},
   "source": [
    "#### Question 2:  Can you create the following matrices in code and multiply them together?\n",
    "\n",
    "[[1+2i,\n",
    "  2+3i,\n",
    "  4+5i]]\n",
    " \n",
    "[[1+2i,2+3j,4+5j],\n",
    "\n",
    " [6+7i,4+1j,2+0j]]\n",
    "\n",
    "\n"
   ]
  },
  {
   "cell_type": "code",
   "execution_count": 5,
   "id": "5fef9ddf-516e-45b9-8f0a-32253b00841d",
   "metadata": {},
   "outputs": [
    {
     "data": {
      "text/plain": [
       "(3, 1)"
      ]
     },
     "execution_count": 5,
     "metadata": {},
     "output_type": "execute_result"
    }
   ],
   "source": [
    "a = np.array([[complex(1,2)],\n",
    "              [complex(2,3)],\n",
    "              [complex(4,5)]])\n",
    "a.shape"
   ]
  },
  {
   "cell_type": "code",
   "execution_count": 6,
   "id": "a5d8c5b6-d672-4a74-8743-91ccb2463119",
   "metadata": {},
   "outputs": [
    {
     "data": {
      "text/plain": [
       "(2, 3)"
      ]
     },
     "execution_count": 6,
     "metadata": {},
     "output_type": "execute_result"
    }
   ],
   "source": [
    "b = np.array([[complex(1,2),complex(2,3),complex(4,5)],\n",
    "              [complex(6,7),complex(4,1),complex(2,0)]])\n",
    "b.shape"
   ]
  },
  {
   "cell_type": "code",
   "execution_count": 7,
   "id": "4d9e0ad6-daca-4e03-b6f6-b3943e7f5797",
   "metadata": {},
   "outputs": [
    {
     "data": {
      "text/plain": [
       "array([[-17.+56.j],\n",
       "       [  5.+43.j]])"
      ]
     },
     "execution_count": 7,
     "metadata": {},
     "output_type": "execute_result"
    }
   ],
   "source": [
    "b@a"
   ]
  },
  {
   "cell_type": "code",
   "execution_count": null,
   "id": "f7b3332c-e7de-4d3b-9661-d26685f03385",
   "metadata": {},
   "outputs": [],
   "source": []
  }
 ],
 "metadata": {
  "kernelspec": {
   "display_name": "Python 3",
   "language": "python",
   "name": "python3"
  },
  "language_info": {
   "codemirror_mode": {
    "name": "ipython",
    "version": 3
   },
   "file_extension": ".py",
   "mimetype": "text/x-python",
   "name": "python",
   "nbconvert_exporter": "python",
   "pygments_lexer": "ipython3",
   "version": "3.8.8"
  }
 },
 "nbformat": 4,
 "nbformat_minor": 5
}
